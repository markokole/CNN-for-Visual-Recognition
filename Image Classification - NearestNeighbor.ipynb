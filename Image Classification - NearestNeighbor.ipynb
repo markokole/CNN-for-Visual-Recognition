{
 "cells": [
  {
   "cell_type": "code",
   "execution_count": 1,
   "metadata": {},
   "outputs": [],
   "source": [
    "from colorama import Fore\n",
    "import numpy as np\n",
    "import matplotlib.pyplot as plt"
   ]
  },
  {
   "cell_type": "code",
   "execution_count": 2,
   "metadata": {},
   "outputs": [],
   "source": [
    "# print in colors\n",
    "def print_fore(obj, color=Fore.BLUE):\n",
    "    print(color + str(obj))"
   ]
  },
  {
   "cell_type": "code",
   "execution_count": 3,
   "metadata": {},
   "outputs": [],
   "source": [
    "def unpickle(file):\n",
    "    import pickle\n",
    "    with open(file, 'rb') as fo:\n",
    "        dict = pickle.load(fo, encoding='bytes')\n",
    "    return dict"
   ]
  },
  {
   "cell_type": "code",
   "execution_count": 4,
   "metadata": {},
   "outputs": [],
   "source": [
    "def show_image(image_array, title=\"\"):\n",
    "    image = image_array.reshape(3, 32,32).transpose(1,2,0)\n",
    "    plt.figure(figsize=(1,1))\n",
    "    plt.imshow(image, cmap=None)\n",
    "    plt.title(title)\n",
    "    plt.axis('off')\n",
    "    plt.show()"
   ]
  },
  {
   "cell_type": "markdown",
   "metadata": {},
   "source": [
    "#### Unpickle the metadata"
   ]
  },
  {
   "cell_type": "code",
   "execution_count": 5,
   "metadata": {},
   "outputs": [],
   "source": [
    "metadata_file = \"cifar-10-batches-py\\\\batches.meta\"\n",
    "metadata = unpickle(metadata_file)"
   ]
  },
  {
   "cell_type": "markdown",
   "metadata": {},
   "source": [
    "#### List of label descriptions"
   ]
  },
  {
   "cell_type": "code",
   "execution_count": 6,
   "metadata": {},
   "outputs": [
    {
     "name": "stdout",
     "output_type": "stream",
     "text": [
      "\u001b[34m['airplane', 'automobile', 'bird', 'cat', 'deer', 'dog', 'frog', 'horse', 'ship', 'truck']\n"
     ]
    }
   ],
   "source": [
    "labels_name = [x.decode('UTF-8') for x in metadata.get(b'label_names')]\n",
    "print_fore(str(labels_name))"
   ]
  },
  {
   "cell_type": "markdown",
   "metadata": {},
   "source": [
    "#### Unpickle the batches - prepare data and labels"
   ]
  },
  {
   "cell_type": "code",
   "execution_count": 7,
   "metadata": {},
   "outputs": [],
   "source": [
    "def prepare_data(files):\n",
    "    batch_dir = \"cifar-10-batches-py\\\\\"\n",
    "    #files = files # [\"data_batch_1\", \"data_batch_2\"]\n",
    "    key_data = \"data\".encode('UTF-8')\n",
    "    key_labels = \"labels\".encode('UTF-8')\n",
    "    \n",
    "    all_data = np.empty([0, 3072], dtype=np.uint8)\n",
    "    all_labels = []\n",
    "\n",
    "    for d in files:\n",
    "        dict_cifar = unpickle(batch_dir+d) # unpickle file to dict\n",
    "        data = dict_cifar.get(key_data) #data_from_dict(dict_cifar) # get data from dict\n",
    "        labels = list(dict_cifar.get(key_labels))\n",
    "        all_data = np.concatenate((all_data, data), axis=0)\n",
    "        all_labels.append(labels) # np.concatenate((all_labels, labels), axis=0)\n",
    "\n",
    "    return all_data, np.array(all_labels).flatten()"
   ]
  },
  {
   "cell_type": "markdown",
   "metadata": {},
   "source": [
    "### Prepare train and test sets"
   ]
  },
  {
   "cell_type": "markdown",
   "metadata": {},
   "source": [
    "#### Put data in a numpy array\n",
    "Each row stores a 32x32 color image.<br>\n",
    "The first 1024 entries contain the red channel values, the next 1024 the green, and the final 1024 the blue.<br>\n",
    "The image is stored in row-major order, so that the first 32 entries of the array are the red channel values of the first row of the image."
   ]
  },
  {
   "cell_type": "code",
   "execution_count": 8,
   "metadata": {},
   "outputs": [
    {
     "name": "stdout",
     "output_type": "stream",
     "text": [
      "\u001b[34m(50000, 3072)\n",
      "\u001b[34m(50000,)\n"
     ]
    }
   ],
   "source": [
    "train_data_files = [\"data_batch_1\", \"data_batch_2\", \"data_batch_3\", \"data_batch_4\", \"data_batch_5\"]\n",
    "X_train, y_train = prepare_data(files = train_data_files)\n",
    "print_fore(X_train.shape)\n",
    "print_fore(y_train.shape)"
   ]
  },
  {
   "cell_type": "code",
   "execution_count": 9,
   "metadata": {},
   "outputs": [
    {
     "name": "stdout",
     "output_type": "stream",
     "text": [
      "\u001b[34m(10000, 3072)\n",
      "\u001b[34m(10000,)\n"
     ]
    }
   ],
   "source": [
    "test_data_files = [\"test_batch\"]\n",
    "X_test, y_test = prepare_data(files = test_data_files)\n",
    "print_fore(X_test.shape)\n",
    "print_fore(y_test.shape)"
   ]
  },
  {
   "cell_type": "markdown",
   "metadata": {},
   "source": [
    "#### Show an image with label in title"
   ]
  },
  {
   "cell_type": "code",
   "execution_count": 10,
   "metadata": {},
   "outputs": [
    {
     "data": {
      "image/png": "[encoded data removed]",
      "text/plain": [
       "<matplotlib.figure.Figure at 0x1ec94e02d30>"
      ]
     },
     "metadata": {},
     "output_type": "display_data"
    }
   ],
   "source": [
    "image_index = 0\n",
    "test_image = X_train[image_index]   \n",
    "show_image(image_array=test_image, title=\"Label: {} - {}\".format(str(y_train[image_index]), str(labels_name[y_train[image_index]])))"
   ]
  },
  {
   "cell_type": "markdown",
   "metadata": {},
   "source": [
    "# Nearest Neighbor Classifier\n",
    "Basic approach to image classification problem<br>\n",
    "The nearest neighbor classifier will take a test image, compare it to every single one of the training images, and predict the label of the closest training image"
   ]
  },
  {
   "cell_type": "markdown",
   "metadata": {},
   "source": [
    "#### Manhattan distance (L1) & Euclidean distance (L2)\n",
    "Step by step example on how to calculate distances between arrays using Manhattan distance. <br>\n",
    "\n",
    "Matrix <i>three_pics</i> represents 3 pictures in a form of 3x3 matrix (each picture is represented in an array). There is an array <i>pic</i> which we will find closest array to in the three_pics matrix. "
   ]
  },
  {
   "cell_type": "code",
   "execution_count": 11,
   "metadata": {},
   "outputs": [
    {
     "name": "stdout",
     "output_type": "stream",
     "text": [
      "\u001b[34mThree pics:\n",
      "[[3 5 8]\n",
      " [3 0 1]\n",
      " [0 3 9]]\n",
      "\u001b[34m\n",
      "Test pic:\n",
      "[[9 8 2]]\n",
      "\u001b[34m\n",
      "Substraction and absolute:\n",
      "[[6 3 6]\n",
      " [6 8 1]\n",
      " [9 5 7]]\n",
      "\u001b[34m\n",
      "Distance between three pics and pic:\n",
      "[15 15 21]\n",
      "\u001b[34m\n",
      "Index of minimum distance array:\n",
      "0\n",
      "\u001b[34m\n",
      "Closest pic from array:\n",
      "[3 5 8]\n"
     ]
    }
   ],
   "source": [
    "# np.random.seed(1) # uncomment for nonrandomized integers\n",
    "three_pics = np.random.randint(10, size=(3,3))\n",
    "print_fore(\"Three pics:\\n\" + str(three_pics))\n",
    "\n",
    "pic = np.random.randint(10, size=(1,3))\n",
    "print_fore(\"\\nTest pic:\\n\" + str(pic))\n",
    "\n",
    "dist_abs = np.abs(three_pics - pic)\n",
    "print_fore(\"\\nSubstraction and absolute:\\n\" + str(dist_abs))\n",
    "\n",
    "dist = np.sum(dist_abs, axis=1)\n",
    "print_fore(\"\\nDistance between three pics and pic:\\n\" + str(dist))\n",
    "\n",
    "min_dist_index = np.argmin(dist)\n",
    "print_fore(\"\\nIndex of minimum distance array:\\n\" + str(min_dist_index))\n",
    "\n",
    "closest_pic = three_pics[min_dist_index]\n",
    "print_fore(\"\\nClosest pic from array:\\n\" + str(closest_pic))"
   ]
  },
  {
   "cell_type": "markdown",
   "metadata": {},
   "source": [
    "## Nearest neighbor\n",
    "There is no training, all the job is done in the prediction phase - not most practical when you would like to predict in near real time."
   ]
  },
  {
   "cell_type": "code",
   "execution_count": 12,
   "metadata": {},
   "outputs": [],
   "source": [
    "class Nearest_Neighbor():\n",
    "    def __init__(self, distance=\"L1\"):\n",
    "        self.distance = distance\n",
    "    \n",
    "    def train(self, X, y):\n",
    "        self.X = X\n",
    "        self.y = y\n",
    "        \n",
    "    def predict(self, X_pred):\n",
    "        y_pred = []\n",
    "        for i_pred, x_pred in enumerate(X_pred):\n",
    "            if self.distance == \"L1\":\n",
    "                dist = np.sum(np.abs(self.X - x_pred), axis=1) # calculate distances to every picture in train\n",
    "            elif self.distance == \"L2\":\n",
    "                dist = np.sqrt(np.sum(np.square(self.X - x_pred)))\n",
    "            min_dist_index = np.argmin(dist) # find index of minimum distance\n",
    "            y_label = self.y[min_dist_index] # find value in labels corresponding the min distance index\n",
    "            y_pred.append(y_label) \n",
    "        return np.array(y_pred)"
   ]
  },
  {
   "cell_type": "markdown",
   "metadata": {},
   "source": [
    "### Train the model"
   ]
  },
  {
   "cell_type": "code",
   "execution_count": 13,
   "metadata": {},
   "outputs": [],
   "source": [
    "nn = Nearest_Neighbor(distance=\"L1\")\n",
    "nn.train(X=X_train, y=y_train)"
   ]
  },
  {
   "cell_type": "markdown",
   "metadata": {},
   "source": [
    "### Predict labels on test data\n",
    "#### Will take some time!\n",
    "It is comparing every test example (10.000) with every train example (60.000)"
   ]
  },
  {
   "cell_type": "code",
   "execution_count": 14,
   "metadata": {},
   "outputs": [],
   "source": [
    "#y_pred = nn.predict(X_pred=X_test)"
   ]
  },
  {
   "cell_type": "markdown",
   "metadata": {},
   "source": [
    "#### Rather predict on a smaller set\n",
    "If running on smaller dataset, skip to k-Nearest Neighbor Classifier"
   ]
  },
  {
   "cell_type": "code",
   "execution_count": 15,
   "metadata": {},
   "outputs": [
    {
     "name": "stdout",
     "output_type": "stream",
     "text": [
      "\u001b[34mTesting on 500 images\n",
      "\u001b[34mAccuracy: 0.248000\n"
     ]
    }
   ],
   "source": [
    "n_test_unit = 500\n",
    "y_pred = nn.predict(X_pred=X_test[:n_test_unit])\n",
    "print_fore(\"Testing on {} images\".format(n_test_unit))\n",
    "print_fore('Accuracy: %f' % ( np.mean(y_pred == y_test[:n_test_unit]) ))"
   ]
  },
  {
   "cell_type": "code",
   "execution_count": 16,
   "metadata": {},
   "outputs": [
    {
     "name": "stdout",
     "output_type": "stream",
     "text": [
      "\u001b[34m10 - 0.2\n",
      "\u001b[34m20 - 0.2\n",
      "\u001b[34m30 - 0.2\n",
      "\u001b[34m40 - 0.15\n",
      "\u001b[34m50 - 0.14\n",
      "\u001b[34m60 - 0.16666666666666666\n",
      "\u001b[34m70 - 0.17142857142857143\n",
      "\u001b[34m80 - 0.2\n",
      "\u001b[34m90 - 0.17777777777777778\n",
      "\u001b[34m100 - 0.18\n"
     ]
    }
   ],
   "source": [
    "list_row = []\n",
    "list_acc = []\n",
    "min_range = 10\n",
    "max_range = 110\n",
    "for i in range(min_range, max_range, 10):\n",
    "    n_test_unit = i\n",
    "    y_pred = nn.predict(X_pred=X_test[:n_test_unit])\n",
    "    acc = np.mean(y_pred == y_test[:n_test_unit])\n",
    "    list_acc.append(acc)\n",
    "    list_row.append(i)\n",
    "    print_fore(\"{} - {}\".format(i, acc))"
   ]
  },
  {
   "cell_type": "code",
   "execution_count": 17,
   "metadata": {},
   "outputs": [
    {
     "data": {
      "image/png": "[encoded data removed]",
      "text/plain": [
       "<matplotlib.figure.Figure at 0x1ec94dfce10>"
      ]
     },
     "metadata": {},
     "output_type": "display_data"
    }
   ],
   "source": [
    "plt.plot(list_row, list_acc, \"r-\")\n",
    "axes = plt.gca()\n",
    "axes.set_xlim([min_range, max_range])\n",
    "axes.set_ylim([0,0.4])\n",
    "xi = [i for i in range(0, len(list_row))]\n",
    "plt.xticks(list_row, list_row)\n",
    "plt.rcParams[\"figure.figsize\"] = (10, 6)\n",
    "plt.show()"
   ]
  },
  {
   "cell_type": "markdown",
   "metadata": {},
   "source": [
    "### Calculate accuracy score on whole train set"
   ]
  },
  {
   "cell_type": "code",
   "execution_count": 18,
   "metadata": {},
   "outputs": [],
   "source": [
    "#print_fore('Accuracy: %f' % ( np.mean(y_pred == y_test) ))"
   ]
  },
  {
   "cell_type": "markdown",
   "metadata": {},
   "source": [
    "### Calculate accuracy score using accuracy_score"
   ]
  },
  {
   "cell_type": "code",
   "execution_count": 19,
   "metadata": {},
   "outputs": [],
   "source": [
    "from sklearn.metrics import accuracy_score\n",
    "\n",
    "#accuracy = accuracy_score(y_true=y_test, y_pred=y_pred)\n",
    "#print_fore(\"Accuracy: {}\".format(accuracy))"
   ]
  },
  {
   "cell_type": "markdown",
   "metadata": {},
   "source": [
    "## k-Nearest Neighbor Classifier\n",
    "Create an instance of KNN and train (fit) the data"
   ]
  },
  {
   "cell_type": "code",
   "execution_count": 20,
   "metadata": {},
   "outputs": [
    {
     "data": {
      "text/plain": [
       "KNeighborsClassifier(algorithm='auto', leaf_size=30, metric='minkowski',\n",
       "           metric_params=None, n_jobs=1, n_neighbors=50, p=2,\n",
       "           weights='uniform')"
      ]
     },
     "execution_count": 20,
     "metadata": {},
     "output_type": "execute_result"
    }
   ],
   "source": [
    "from sklearn.neighbors import KNeighborsClassifier\n",
    "k = 50\n",
    "clf = KNeighborsClassifier(n_neighbors=k, weights=\"uniform\")\n",
    "clf.fit(X=X_train, y=y_train)"
   ]
  },
  {
   "cell_type": "markdown",
   "metadata": {},
   "source": [
    "#### Predict"
   ]
  },
  {
   "cell_type": "code",
   "execution_count": 21,
   "metadata": {},
   "outputs": [],
   "source": [
    "n_test_unit = 500\n",
    "y_pred = clf.predict(X=X_test[:n_test_unit])"
   ]
  },
  {
   "cell_type": "code",
   "execution_count": 22,
   "metadata": {},
   "outputs": [
    {
     "name": "stdout",
     "output_type": "stream",
     "text": [
      "\u001b[34mAccuracy: 0.314000\n"
     ]
    }
   ],
   "source": [
    "print_fore('Accuracy: %f' % ( np.mean(y_pred == y_test[:n_test_unit]) ))"
   ]
  },
  {
   "cell_type": "markdown",
   "metadata": {},
   "source": [
    "Notes on accuracy for various number of neighbors (k):<br>\n",
    "7 - 0.314000<br>\n",
    "15 - 0.318000<br>\n",
    "50 - 0.314000"
   ]
  }
 ],
 "metadata": {
  "kernelspec": {
   "display_name": "Python 3",
   "language": "python",
   "name": "python3"
  },
  "language_info": {
   "codemirror_mode": {
    "name": "ipython",
    "version": 3
   },
   "file_extension": ".py",
   "mimetype": "text/x-python",
   "name": "python",
   "nbconvert_exporter": "python",
   "pygments_lexer": "ipython3",
   "version": "3.5.4"
  }
 },
 "nbformat": 4,
 "nbformat_minor": 2
}
